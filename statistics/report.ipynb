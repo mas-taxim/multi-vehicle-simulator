{
 "cells": [
  {
   "cell_type": "code",
   "execution_count": 148,
   "metadata": {},
   "outputs": [],
   "source": [
    "import pandas as pd\n",
    "import json\n",
    "from datetime import datetime, timedelta\n",
    "import matplotlib.pyplot as plt\n",
    "import seaborn as sns"
   ]
  },
  {
   "cell_type": "code",
   "execution_count": 149,
   "metadata": {},
   "outputs": [],
   "source": [
    "jsonFile = open(\"./log/result.json\", 'r')\n",
    "data = json.load(jsonFile)"
   ]
  },
  {
   "cell_type": "code",
   "execution_count": 150,
   "metadata": {},
   "outputs": [],
   "source": [
    "task_df = pd.DataFrame(data['task']).T\n",
    "task_df['last_update_time'] = pd.to_datetime(task_df['last_update_time'], unit='ms')\n",
    "task_df['create_time'] = pd.to_datetime(task_df['create_time'], unit='ms')\n",
    "task_df['wait_alloc_time'] /= 60000\n",
    "task_df['wait_vehicle_time'] /= 60000\n",
    "task_df['wait_total_time'] = task_df['wait_alloc_time'] + task_df['wait_vehicle_time']\n",
    "\n",
    "# to koran time\n",
    "task_df['last_update_time'] = pd.DatetimeIndex(task_df['last_update_time'] + timedelta(hours=9))\n",
    "task_df['create_time'] = pd.DatetimeIndex(task_df['create_time'] + timedelta(hours=9))"
   ]
  },
  {
   "cell_type": "code",
   "execution_count": 157,
   "metadata": {},
   "outputs": [
    {
     "name": "stderr",
     "output_type": "stream",
     "text": [
      "/var/folders/xm/h7qj67pn08v89vfss39pt2980000gn/T/ipykernel_86871/726511240.py:1: FutureWarning: Indexing with multiple keys (implicitly converted to a tuple of keys) will be deprecated, use a list instead.\n",
      "  grouping_df = task_df.groupby([pd.Grouper(key='create_time',freq='1H')])['wait_vehicle_time', 'wait_alloc_time', 'wait_total_time'].mean().reset_index().sort_values(['create_time'])\n"
     ]
    }
   ],
   "source": [
    "grouping_df = task_df.groupby([pd.Grouper(key='create_time',freq='1H')])['wait_vehicle_time', 'wait_alloc_time', 'wait_total_time'].mean().reset_index().sort_values(['create_time'])\n",
    "grouping_df['create_time'] = grouping_df['create_time'].dt.hour"
   ]
  },
  {
   "cell_type": "code",
   "execution_count": 158,
   "metadata": {},
   "outputs": [
    {
     "data": {
      "text/html": [
       "<div>\n",
       "<style scoped>\n",
       "    .dataframe tbody tr th:only-of-type {\n",
       "        vertical-align: middle;\n",
       "    }\n",
       "\n",
       "    .dataframe tbody tr th {\n",
       "        vertical-align: top;\n",
       "    }\n",
       "\n",
       "    .dataframe thead th {\n",
       "        text-align: right;\n",
       "    }\n",
       "</style>\n",
       "<table border=\"1\" class=\"dataframe\">\n",
       "  <thead>\n",
       "    <tr style=\"text-align: right;\">\n",
       "      <th></th>\n",
       "      <th>시간대</th>\n",
       "      <th>배차 후 대기시간</th>\n",
       "      <th>배차 요청 후 대기시간</th>\n",
       "      <th>배차요청 후 총 대기시간</th>\n",
       "    </tr>\n",
       "  </thead>\n",
       "  <tbody>\n",
       "    <tr>\n",
       "      <th>0</th>\n",
       "      <td>0</td>\n",
       "      <td>67.428571</td>\n",
       "      <td>0.000000</td>\n",
       "      <td>67.428571</td>\n",
       "    </tr>\n",
       "    <tr>\n",
       "      <th>1</th>\n",
       "      <td>1</td>\n",
       "      <td>71.818182</td>\n",
       "      <td>0.000000</td>\n",
       "      <td>71.818182</td>\n",
       "    </tr>\n",
       "    <tr>\n",
       "      <th>2</th>\n",
       "      <td>2</td>\n",
       "      <td>81.000000</td>\n",
       "      <td>0.000000</td>\n",
       "      <td>81.000000</td>\n",
       "    </tr>\n",
       "    <tr>\n",
       "      <th>3</th>\n",
       "      <td>3</td>\n",
       "      <td>81.250000</td>\n",
       "      <td>0.000000</td>\n",
       "      <td>81.250000</td>\n",
       "    </tr>\n",
       "    <tr>\n",
       "      <th>4</th>\n",
       "      <td>4</td>\n",
       "      <td>83.750000</td>\n",
       "      <td>0.000000</td>\n",
       "      <td>83.750000</td>\n",
       "    </tr>\n",
       "    <tr>\n",
       "      <th>5</th>\n",
       "      <td>5</td>\n",
       "      <td>55.625000</td>\n",
       "      <td>0.000000</td>\n",
       "      <td>55.625000</td>\n",
       "    </tr>\n",
       "    <tr>\n",
       "      <th>6</th>\n",
       "      <td>6</td>\n",
       "      <td>78.230769</td>\n",
       "      <td>0.000000</td>\n",
       "      <td>78.230769</td>\n",
       "    </tr>\n",
       "    <tr>\n",
       "      <th>7</th>\n",
       "      <td>7</td>\n",
       "      <td>92.681818</td>\n",
       "      <td>0.000000</td>\n",
       "      <td>92.681818</td>\n",
       "    </tr>\n",
       "    <tr>\n",
       "      <th>8</th>\n",
       "      <td>8</td>\n",
       "      <td>74.216216</td>\n",
       "      <td>0.000000</td>\n",
       "      <td>74.216216</td>\n",
       "    </tr>\n",
       "    <tr>\n",
       "      <th>9</th>\n",
       "      <td>9</td>\n",
       "      <td>67.550000</td>\n",
       "      <td>0.000000</td>\n",
       "      <td>67.550000</td>\n",
       "    </tr>\n",
       "    <tr>\n",
       "      <th>10</th>\n",
       "      <td>10</td>\n",
       "      <td>88.333333</td>\n",
       "      <td>0.000000</td>\n",
       "      <td>88.333333</td>\n",
       "    </tr>\n",
       "    <tr>\n",
       "      <th>11</th>\n",
       "      <td>11</td>\n",
       "      <td>90.000000</td>\n",
       "      <td>0.000000</td>\n",
       "      <td>90.000000</td>\n",
       "    </tr>\n",
       "    <tr>\n",
       "      <th>12</th>\n",
       "      <td>12</td>\n",
       "      <td>69.272727</td>\n",
       "      <td>0.000000</td>\n",
       "      <td>69.272727</td>\n",
       "    </tr>\n",
       "    <tr>\n",
       "      <th>13</th>\n",
       "      <td>13</td>\n",
       "      <td>73.470588</td>\n",
       "      <td>0.000000</td>\n",
       "      <td>73.470588</td>\n",
       "    </tr>\n",
       "    <tr>\n",
       "      <th>14</th>\n",
       "      <td>14</td>\n",
       "      <td>78.289474</td>\n",
       "      <td>0.000000</td>\n",
       "      <td>78.289474</td>\n",
       "    </tr>\n",
       "    <tr>\n",
       "      <th>15</th>\n",
       "      <td>15</td>\n",
       "      <td>81.393939</td>\n",
       "      <td>0.000000</td>\n",
       "      <td>81.393939</td>\n",
       "    </tr>\n",
       "    <tr>\n",
       "      <th>16</th>\n",
       "      <td>16</td>\n",
       "      <td>75.714286</td>\n",
       "      <td>0.571429</td>\n",
       "      <td>76.285714</td>\n",
       "    </tr>\n",
       "    <tr>\n",
       "      <th>17</th>\n",
       "      <td>17</td>\n",
       "      <td>78.282609</td>\n",
       "      <td>16.391304</td>\n",
       "      <td>94.673913</td>\n",
       "    </tr>\n",
       "    <tr>\n",
       "      <th>18</th>\n",
       "      <td>18</td>\n",
       "      <td>80.076923</td>\n",
       "      <td>18.384615</td>\n",
       "      <td>98.461538</td>\n",
       "    </tr>\n",
       "    <tr>\n",
       "      <th>19</th>\n",
       "      <td>19</td>\n",
       "      <td>76.766667</td>\n",
       "      <td>23.400000</td>\n",
       "      <td>100.166667</td>\n",
       "    </tr>\n",
       "    <tr>\n",
       "      <th>20</th>\n",
       "      <td>20</td>\n",
       "      <td>80.904762</td>\n",
       "      <td>9.952381</td>\n",
       "      <td>90.857143</td>\n",
       "    </tr>\n",
       "    <tr>\n",
       "      <th>21</th>\n",
       "      <td>21</td>\n",
       "      <td>80.727273</td>\n",
       "      <td>0.000000</td>\n",
       "      <td>80.727273</td>\n",
       "    </tr>\n",
       "    <tr>\n",
       "      <th>22</th>\n",
       "      <td>22</td>\n",
       "      <td>24.250000</td>\n",
       "      <td>0.000000</td>\n",
       "      <td>24.250000</td>\n",
       "    </tr>\n",
       "    <tr>\n",
       "      <th>23</th>\n",
       "      <td>23</td>\n",
       "      <td>9.769231</td>\n",
       "      <td>0.000000</td>\n",
       "      <td>9.769231</td>\n",
       "    </tr>\n",
       "  </tbody>\n",
       "</table>\n",
       "</div>"
      ],
      "text/plain": [
       "    시간대  배차 후 대기시간  배차 요청 후 대기시간  배차요청 후 총 대기시간\n",
       "0     0  67.428571      0.000000      67.428571\n",
       "1     1  71.818182      0.000000      71.818182\n",
       "2     2  81.000000      0.000000      81.000000\n",
       "3     3  81.250000      0.000000      81.250000\n",
       "4     4  83.750000      0.000000      83.750000\n",
       "5     5  55.625000      0.000000      55.625000\n",
       "6     6  78.230769      0.000000      78.230769\n",
       "7     7  92.681818      0.000000      92.681818\n",
       "8     8  74.216216      0.000000      74.216216\n",
       "9     9  67.550000      0.000000      67.550000\n",
       "10   10  88.333333      0.000000      88.333333\n",
       "11   11  90.000000      0.000000      90.000000\n",
       "12   12  69.272727      0.000000      69.272727\n",
       "13   13  73.470588      0.000000      73.470588\n",
       "14   14  78.289474      0.000000      78.289474\n",
       "15   15  81.393939      0.000000      81.393939\n",
       "16   16  75.714286      0.571429      76.285714\n",
       "17   17  78.282609     16.391304      94.673913\n",
       "18   18  80.076923     18.384615      98.461538\n",
       "19   19  76.766667     23.400000     100.166667\n",
       "20   20  80.904762      9.952381      90.857143\n",
       "21   21  80.727273      0.000000      80.727273\n",
       "22   22  24.250000      0.000000      24.250000\n",
       "23   23   9.769231      0.000000       9.769231"
      ]
     },
     "execution_count": 158,
     "metadata": {},
     "output_type": "execute_result"
    }
   ],
   "source": [
    "grouping_df.rename(columns={'create_time':'시간대', 'wait_vehicle_time':'배차 후 대기시간', 'wait_alloc_time':'배차 요청 후 대기시간', 'wait_total_time': '배차요청 후 총 대기시간'})\n"
   ]
  },
  {
   "cell_type": "code",
   "execution_count": 160,
   "metadata": {},
   "outputs": [
    {
     "ename": "ValueError",
     "evalue": "Could not interpret input '시간대'",
     "output_type": "error",
     "traceback": [
      "\u001b[0;31m---------------------------------------------------------------------------\u001b[0m",
      "\u001b[0;31mValueError\u001b[0m                                Traceback (most recent call last)",
      "Cell \u001b[0;32mIn[160], line 3\u001b[0m\n\u001b[1;32m      1\u001b[0m plot1 \u001b[39m=\u001b[39m plt\u001b[39m.\u001b[39mfigure(figsize \u001b[39m=\u001b[39m (\u001b[39m8\u001b[39m,\u001b[39m4\u001b[39m))\n\u001b[1;32m      2\u001b[0m plt\u001b[39m.\u001b[39mrcParams[\u001b[39m'\u001b[39m\u001b[39mfont.family\u001b[39m\u001b[39m'\u001b[39m] \u001b[39m=\u001b[39m \u001b[39m'\u001b[39m\u001b[39mAppleGothic\u001b[39m\u001b[39m'\u001b[39m\n\u001b[0;32m----> 3\u001b[0m sns\u001b[39m.\u001b[39;49mbarplot(x \u001b[39m=\u001b[39;49m \u001b[39m'\u001b[39;49m\u001b[39m시간대\u001b[39;49m\u001b[39m'\u001b[39;49m, y \u001b[39m=\u001b[39;49m \u001b[39m'\u001b[39;49m\u001b[39m배차 후 대기시간\u001b[39;49m\u001b[39m'\u001b[39;49m,data \u001b[39m=\u001b[39;49m grouping_df)\n\u001b[1;32m      4\u001b[0m \u001b[39m#sns.lineplot(x = 'create_time', y='wait_alloc_time', data = grouping_df)\u001b[39;00m\n\u001b[1;32m      5\u001b[0m plt\u001b[39m.\u001b[39msavefig(\u001b[39m\"\u001b[39m\u001b[39m../img/wait-vehicle-time.png\u001b[39m\u001b[39m\"\u001b[39m)\n",
      "File \u001b[0;32m~/opt/anaconda3/envs/mvs/lib/python3.8/site-packages/seaborn/categorical.py:2755\u001b[0m, in \u001b[0;36mbarplot\u001b[0;34m(data, x, y, hue, order, hue_order, estimator, errorbar, n_boot, units, seed, orient, color, palette, saturation, width, errcolor, errwidth, capsize, dodge, ci, ax, **kwargs)\u001b[0m\n\u001b[1;32m   2752\u001b[0m \u001b[39mif\u001b[39;00m estimator \u001b[39mis\u001b[39;00m \u001b[39mlen\u001b[39m:\n\u001b[1;32m   2753\u001b[0m     estimator \u001b[39m=\u001b[39m \u001b[39m\"\u001b[39m\u001b[39msize\u001b[39m\u001b[39m\"\u001b[39m\n\u001b[0;32m-> 2755\u001b[0m plotter \u001b[39m=\u001b[39m _BarPlotter(x, y, hue, data, order, hue_order,\n\u001b[1;32m   2756\u001b[0m                       estimator, errorbar, n_boot, units, seed,\n\u001b[1;32m   2757\u001b[0m                       orient, color, palette, saturation,\n\u001b[1;32m   2758\u001b[0m                       width, errcolor, errwidth, capsize, dodge)\n\u001b[1;32m   2760\u001b[0m \u001b[39mif\u001b[39;00m ax \u001b[39mis\u001b[39;00m \u001b[39mNone\u001b[39;00m:\n\u001b[1;32m   2761\u001b[0m     ax \u001b[39m=\u001b[39m plt\u001b[39m.\u001b[39mgca()\n",
      "File \u001b[0;32m~/opt/anaconda3/envs/mvs/lib/python3.8/site-packages/seaborn/categorical.py:1530\u001b[0m, in \u001b[0;36m_BarPlotter.__init__\u001b[0;34m(self, x, y, hue, data, order, hue_order, estimator, errorbar, n_boot, units, seed, orient, color, palette, saturation, width, errcolor, errwidth, capsize, dodge)\u001b[0m\n\u001b[1;32m   1525\u001b[0m \u001b[39mdef\u001b[39;00m \u001b[39m__init__\u001b[39m(\u001b[39mself\u001b[39m, x, y, hue, data, order, hue_order,\n\u001b[1;32m   1526\u001b[0m              estimator, errorbar, n_boot, units, seed,\n\u001b[1;32m   1527\u001b[0m              orient, color, palette, saturation, width,\n\u001b[1;32m   1528\u001b[0m              errcolor, errwidth, capsize, dodge):\n\u001b[1;32m   1529\u001b[0m \u001b[39m    \u001b[39m\u001b[39m\"\"\"Initialize the plotter.\"\"\"\u001b[39;00m\n\u001b[0;32m-> 1530\u001b[0m     \u001b[39mself\u001b[39;49m\u001b[39m.\u001b[39;49mestablish_variables(x, y, hue, data, orient,\n\u001b[1;32m   1531\u001b[0m                              order, hue_order, units)\n\u001b[1;32m   1532\u001b[0m     \u001b[39mself\u001b[39m\u001b[39m.\u001b[39mestablish_colors(color, palette, saturation)\n\u001b[1;32m   1533\u001b[0m     \u001b[39mself\u001b[39m\u001b[39m.\u001b[39mestimate_statistic(estimator, errorbar, n_boot, seed)\n",
      "File \u001b[0;32m~/opt/anaconda3/envs/mvs/lib/python3.8/site-packages/seaborn/categorical.py:541\u001b[0m, in \u001b[0;36m_CategoricalPlotter.establish_variables\u001b[0;34m(self, x, y, hue, data, orient, order, hue_order, units)\u001b[0m\n\u001b[1;32m    539\u001b[0m     \u001b[39mif\u001b[39;00m \u001b[39misinstance\u001b[39m(var, \u001b[39mstr\u001b[39m):\n\u001b[1;32m    540\u001b[0m         err \u001b[39m=\u001b[39m \u001b[39mf\u001b[39m\u001b[39m\"\u001b[39m\u001b[39mCould not interpret input \u001b[39m\u001b[39m'\u001b[39m\u001b[39m{\u001b[39;00mvar\u001b[39m}\u001b[39;00m\u001b[39m'\u001b[39m\u001b[39m\"\u001b[39m\n\u001b[0;32m--> 541\u001b[0m         \u001b[39mraise\u001b[39;00m \u001b[39mValueError\u001b[39;00m(err)\n\u001b[1;32m    543\u001b[0m \u001b[39m# Figure out the plotting orientation\u001b[39;00m\n\u001b[1;32m    544\u001b[0m orient \u001b[39m=\u001b[39m infer_orient(\n\u001b[1;32m    545\u001b[0m     x, y, orient, require_numeric\u001b[39m=\u001b[39m\u001b[39mself\u001b[39m\u001b[39m.\u001b[39mrequire_numeric\n\u001b[1;32m    546\u001b[0m )\n",
      "\u001b[0;31mValueError\u001b[0m: Could not interpret input '시간대'"
     ]
    },
    {
     "data": {
      "text/plain": [
       "<Figure size 800x400 with 0 Axes>"
      ]
     },
     "metadata": {},
     "output_type": "display_data"
    }
   ],
   "source": [
    "plot1 = plt.figure(figsize = (8,4))\n",
    "plt.rcParams['font.family'] = 'AppleGothic'\n",
    "sns.barplot(x = '시간대', y = '배차 후 대기시간',data = grouping_df)\n",
    "#sns.lineplot(x = 'create_time', y='wait_alloc_time', data = grouping_df)\n",
    "plt.savefig(\"../img/wait-vehicle-time.png\")"
   ]
  },
  {
   "cell_type": "code",
   "execution_count": 129,
   "metadata": {},
   "outputs": [
    {
     "data": {
      "image/png": "[encoded data removed]",
      "text/plain": [
       "<Figure size 800x400 with 1 Axes>"
      ]
     },
     "metadata": {},
     "output_type": "display_data"
    }
   ],
   "source": [
    "plt2 = plt.figure(figsize = (8,4))\n",
    "sns.barplot(x = 'create_time', y = 'wait_alloc_time',data = grouping_df)\n",
    "plt.savefig(\"../img/wait-alloc-time.png\")"
   ]
  },
  {
   "cell_type": "code",
   "execution_count": 130,
   "metadata": {},
   "outputs": [
    {
     "data": {
      "image/png": "[encoded data removed]",
      "text/plain": [
       "<Figure size 800x400 with 1 Axes>"
      ]
     },
     "metadata": {},
     "output_type": "display_data"
    }
   ],
   "source": [
    "plt3 = plt.figure(figsize = (8,4))\n",
    "sns.barplot(x = 'create_time', y = 'wait_total_time',data = grouping_df)\n",
    "plt.savefig(\"../img/wait-total-time.png\")"
   ]
  },
  {
   "cell_type": "code",
   "execution_count": 131,
   "metadata": {},
   "outputs": [],
   "source": [
    "v_df = pd.DataFrame(data['vehicle']).T\n",
    "\n",
    "v_df['wait_alloc_time'] /= 60000\n",
    "v_df['moving_to_load_time'] /= 60000\n",
    "\n",
    "v_alloc_time_avg = v_df['wait_alloc_time'].mean()\n",
    "v_moving_to_load_time = v_df['moving_to_load_time'].mean()"
   ]
  },
  {
   "cell_type": "code",
   "execution_count": 151,
   "metadata": {},
   "outputs": [],
   "source": [
    "event_list = []\n",
    "\n",
    "for v_event in v_df['empty_event']:\n",
    "    first_event = True\n",
    "    for event in v_event:\n",
    "        if first_event:\n",
    "            first_event = False\n",
    "            continue\n",
    "        event_list.append(event)\n"
   ]
  },
  {
   "cell_type": "code",
   "execution_count": 156,
   "metadata": {},
   "outputs": [
    {
     "name": "stdout",
     "output_type": "stream",
     "text": [
      "    time  empty_time\n",
      "0      1   89.000000\n",
      "1      2  156.000000\n",
      "2      3  161.000000\n",
      "3      4  125.625000\n",
      "4      5  108.571429\n",
      "5      6   81.571429\n",
      "6      7   87.500000\n",
      "7      8   98.250000\n",
      "8      9  151.641026\n",
      "9     10  192.648649\n",
      "10    11  150.714286\n",
      "11    12   90.590909\n",
      "12    13  100.538462\n",
      "13    14   94.823529\n",
      "14    15   97.718750\n",
      "15    16   88.657143\n",
      "16    17   92.225000\n",
      "17    18   85.571429\n",
      "18    19   89.880000\n",
      "19    20  109.687500\n",
      "20    21   97.142857\n",
      "21    22   68.333333\n"
     ]
    },
    {
     "ename": "ValueError",
     "evalue": "Could not interpret input '시간'",
     "output_type": "error",
     "traceback": [
      "\u001b[0;31m---------------------------------------------------------------------------\u001b[0m",
      "\u001b[0;31mValueError\u001b[0m                                Traceback (most recent call last)",
      "Cell \u001b[0;32mIn[156], line 17\u001b[0m\n\u001b[1;32m     15\u001b[0m plt\u001b[39m.\u001b[39mrcParams[\u001b[39m'\u001b[39m\u001b[39mfont.family\u001b[39m\u001b[39m'\u001b[39m] \u001b[39m=\u001b[39m \u001b[39m'\u001b[39m\u001b[39mAppleGothic\u001b[39m\u001b[39m'\u001b[39m\n\u001b[1;32m     16\u001b[0m plt\u001b[39m.\u001b[39mtitle(\u001b[39m\"\u001b[39m\u001b[39m시간대 별 배차 후 대기시간 평균\u001b[39m\u001b[39m\"\u001b[39m, fontsize\u001b[39m=\u001b[39m\u001b[39m20\u001b[39m)\n\u001b[0;32m---> 17\u001b[0m sns\u001b[39m.\u001b[39;49mbarplot(x \u001b[39m=\u001b[39;49m \u001b[39m'\u001b[39;49m\u001b[39m시간\u001b[39;49m\u001b[39m'\u001b[39;49m, y \u001b[39m=\u001b[39;49m \u001b[39m'\u001b[39;49m\u001b[39m공차시간\u001b[39;49m\u001b[39m'\u001b[39;49m, data \u001b[39m=\u001b[39;49m event_df_g)\n\u001b[1;32m     18\u001b[0m plt\u001b[39m.\u001b[39msavefig(\u001b[39m\"\u001b[39m\u001b[39m../img/vehicle-empty-time.png\u001b[39m\u001b[39m\"\u001b[39m)\n\u001b[1;32m     19\u001b[0m plt\u001b[39m.\u001b[39mshow()\n",
      "File \u001b[0;32m~/opt/anaconda3/envs/mvs/lib/python3.8/site-packages/seaborn/categorical.py:2755\u001b[0m, in \u001b[0;36mbarplot\u001b[0;34m(data, x, y, hue, order, hue_order, estimator, errorbar, n_boot, units, seed, orient, color, palette, saturation, width, errcolor, errwidth, capsize, dodge, ci, ax, **kwargs)\u001b[0m\n\u001b[1;32m   2752\u001b[0m \u001b[39mif\u001b[39;00m estimator \u001b[39mis\u001b[39;00m \u001b[39mlen\u001b[39m:\n\u001b[1;32m   2753\u001b[0m     estimator \u001b[39m=\u001b[39m \u001b[39m\"\u001b[39m\u001b[39msize\u001b[39m\u001b[39m\"\u001b[39m\n\u001b[0;32m-> 2755\u001b[0m plotter \u001b[39m=\u001b[39m _BarPlotter(x, y, hue, data, order, hue_order,\n\u001b[1;32m   2756\u001b[0m                       estimator, errorbar, n_boot, units, seed,\n\u001b[1;32m   2757\u001b[0m                       orient, color, palette, saturation,\n\u001b[1;32m   2758\u001b[0m                       width, errcolor, errwidth, capsize, dodge)\n\u001b[1;32m   2760\u001b[0m \u001b[39mif\u001b[39;00m ax \u001b[39mis\u001b[39;00m \u001b[39mNone\u001b[39;00m:\n\u001b[1;32m   2761\u001b[0m     ax \u001b[39m=\u001b[39m plt\u001b[39m.\u001b[39mgca()\n",
      "File \u001b[0;32m~/opt/anaconda3/envs/mvs/lib/python3.8/site-packages/seaborn/categorical.py:1530\u001b[0m, in \u001b[0;36m_BarPlotter.__init__\u001b[0;34m(self, x, y, hue, data, order, hue_order, estimator, errorbar, n_boot, units, seed, orient, color, palette, saturation, width, errcolor, errwidth, capsize, dodge)\u001b[0m\n\u001b[1;32m   1525\u001b[0m \u001b[39mdef\u001b[39;00m \u001b[39m__init__\u001b[39m(\u001b[39mself\u001b[39m, x, y, hue, data, order, hue_order,\n\u001b[1;32m   1526\u001b[0m              estimator, errorbar, n_boot, units, seed,\n\u001b[1;32m   1527\u001b[0m              orient, color, palette, saturation, width,\n\u001b[1;32m   1528\u001b[0m              errcolor, errwidth, capsize, dodge):\n\u001b[1;32m   1529\u001b[0m \u001b[39m    \u001b[39m\u001b[39m\"\"\"Initialize the plotter.\"\"\"\u001b[39;00m\n\u001b[0;32m-> 1530\u001b[0m     \u001b[39mself\u001b[39;49m\u001b[39m.\u001b[39;49mestablish_variables(x, y, hue, data, orient,\n\u001b[1;32m   1531\u001b[0m                              order, hue_order, units)\n\u001b[1;32m   1532\u001b[0m     \u001b[39mself\u001b[39m\u001b[39m.\u001b[39mestablish_colors(color, palette, saturation)\n\u001b[1;32m   1533\u001b[0m     \u001b[39mself\u001b[39m\u001b[39m.\u001b[39mestimate_statistic(estimator, errorbar, n_boot, seed)\n",
      "File \u001b[0;32m~/opt/anaconda3/envs/mvs/lib/python3.8/site-packages/seaborn/categorical.py:541\u001b[0m, in \u001b[0;36m_CategoricalPlotter.establish_variables\u001b[0;34m(self, x, y, hue, data, orient, order, hue_order, units)\u001b[0m\n\u001b[1;32m    539\u001b[0m     \u001b[39mif\u001b[39;00m \u001b[39misinstance\u001b[39m(var, \u001b[39mstr\u001b[39m):\n\u001b[1;32m    540\u001b[0m         err \u001b[39m=\u001b[39m \u001b[39mf\u001b[39m\u001b[39m\"\u001b[39m\u001b[39mCould not interpret input \u001b[39m\u001b[39m'\u001b[39m\u001b[39m{\u001b[39;00mvar\u001b[39m}\u001b[39;00m\u001b[39m'\u001b[39m\u001b[39m\"\u001b[39m\n\u001b[0;32m--> 541\u001b[0m         \u001b[39mraise\u001b[39;00m \u001b[39mValueError\u001b[39;00m(err)\n\u001b[1;32m    543\u001b[0m \u001b[39m# Figure out the plotting orientation\u001b[39;00m\n\u001b[1;32m    544\u001b[0m orient \u001b[39m=\u001b[39m infer_orient(\n\u001b[1;32m    545\u001b[0m     x, y, orient, require_numeric\u001b[39m=\u001b[39m\u001b[39mself\u001b[39m\u001b[39m.\u001b[39mrequire_numeric\n\u001b[1;32m    546\u001b[0m )\n",
      "\u001b[0;31mValueError\u001b[0m: Could not interpret input '시간'"
     ]
    },
    {
     "data": {
      "image/png": "[encoded data removed]",
      "text/plain": [
       "<Figure size 800x400 with 1 Axes>"
      ]
     },
     "metadata": {},
     "output_type": "display_data"
    }
   ],
   "source": [
    "\n",
    "event_df = pd.DataFrame(event_list, columns=['time', 'empty_time'])\n",
    "event_df['time'] = pd.to_datetime(event_df['time'], unit='ms')\n",
    "event_df['empty_time'] /= 60000\n",
    "#task_df['last_update_time'] = pd.to_datetime(task_df['last_update_time'], unit='ms')\n",
    "\n",
    "# to koran time\n",
    "event_df['time'] = pd.DatetimeIndex(event_df['time'] + timedelta(hours=9))\n",
    "event_df\n",
    "\n",
    "event_df_g = event_df.groupby([pd.Grouper(key='time',freq='1H')])['empty_time'].mean().reset_index().sort_values(['time'])\n",
    "event_df_g['time'] = event_df_g['time'].dt.hour\n",
    "\n",
    "plt.figure(figsize = (8,4))\n",
    "plt.rcParams['font.family'] = 'AppleGothic'\n",
    "plt.title(\"시간대 별 배차 후 대기시간 평균\", fontsize=20)\n",
    "sns.barplot(x = 'time', y = 'empty_time', data = event_df_g)\n",
    "plt.savefig(\"../img/vehicle-empty-time.png\")\n",
    "plt.show()"
   ]
  },
  {
   "cell_type": "code",
   "execution_count": null,
   "metadata": {},
   "outputs": [],
   "source": []
  }
 ],
 "metadata": {
  "kernelspec": {
   "display_name": "mvs",
   "language": "python",
   "name": "python3"
  },
  "language_info": {
   "codemirror_mode": {
    "name": "ipython",
    "version": 3
   },
   "file_extension": ".py",
   "mimetype": "text/x-python",
   "name": "python",
   "nbconvert_exporter": "python",
   "pygments_lexer": "ipython3",
   "version": "3.8.16"
  },
  "orig_nbformat": 4
 },
 "nbformat": 4,
 "nbformat_minor": 2
}
